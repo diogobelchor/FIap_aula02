{
  "nbformat": 4,
  "nbformat_minor": 0,
  "metadata": {
    "colab": {
      "name": "Video.ipynb",
      "provenance": [],
      "collapsed_sections": [],
      "include_colab_link": true
    },
    "kernelspec": {
      "name": "python3",
      "display_name": "Python 3"
    },
    "language_info": {
      "name": "python"
    }
  },
  "cells": [
    {
      "cell_type": "markdown",
      "metadata": {
        "id": "view-in-github",
        "colab_type": "text"
      },
      "source": [
        "<a href=\"https://colab.research.google.com/github/diogobelchor/FIap_aula02/blob/main/Video.ipynb\" target=\"_parent\"><img src=\"https://colab.research.google.com/assets/colab-badge.svg\" alt=\"Open In Colab\"/></a>"
      ]
    },
    {
      "cell_type": "code",
      "execution_count": 4,
      "metadata": {
        "id": "6xjQVNQbA8UD",
        "colab": {
          "base_uri": "https://localhost:8080/",
          "height": 130
        },
        "outputId": "84bf2f78-d9c3-4ed9-aad1-b689f0cf198c"
      },
      "outputs": [
        {
          "output_type": "error",
          "ename": "SyntaxError",
          "evalue": "ignored",
          "traceback": [
            "\u001b[0;36m  File \u001b[0;32m\"<ipython-input-4-1921bf9c12c4>\"\u001b[0;36m, line \u001b[0;32m1\u001b[0m\n\u001b[0;31m    from IPython.display import display, Javascript\u001b[0m\n\u001b[0m               ^\u001b[0m\n\u001b[0;31mSyntaxError\u001b[0m\u001b[0;31m:\u001b[0m invalid character in identifier\n"
          ]
        }
      ],
      "source": [
        "from IPython.display import display, Javascript\n",
        "\n",
        "from google.colab.output import eval_js\n",
        "\n",
        "from base64 import b64decode\n",
        "\n",
        "\n",
        "\n",
        "def take_photo(filename='photo.jpg', quality=0.8):\n",
        "\n",
        "  js = Javascript('''\n",
        "\n",
        "    async function takePhoto(quality) {\n",
        "\n",
        "      const div = document.createElement('div');\n",
        "\n",
        "      const capture = document.createElement('button');\n",
        "\n",
        "      capture.textContent = 'Capture';\n",
        "\n",
        "      div.appendChild(capture);\n",
        "\n",
        "\n",
        "\n",
        "      const video = document.createElement('video');\n",
        "\n",
        "      video.style.display = 'block';\n",
        "\n",
        "      const stream = await navigator.mediaDevices.getUserMedia({video: true});\n",
        "\n",
        "\n",
        "\n",
        "      document.body.appendChild(div);\n",
        "\n",
        "      div.appendChild(video);\n",
        "\n",
        "      video.srcObject = stream;\n",
        "\n",
        "      await video.play();\n",
        "\n",
        "\n",
        "\n",
        "      // Resize the output to fit the video element.\n",
        "\n",
        "      google.colab.output.setIframeHeight(document.documentElement.scrollHeight, true);\n",
        "\n",
        "\n",
        "\n",
        "      // Wait for Capture to be clicked.\n",
        "\n",
        "      await new Promise((resolve) => capture.onclick = resolve);\n",
        "\n",
        "\n",
        "\n",
        "      const canvas = document.createElement('canvas');\n",
        "\n",
        "      canvas.width = video.videoWidth;\n",
        "\n",
        "      canvas.height = video.videoHeight;\n",
        "\n",
        "      canvas.getContext('2d').drawImage(video, 0, 0);\n",
        "\n",
        "      stream.getVideoTracks()[0].stop();\n",
        "\n",
        "      div.remove();\n",
        "\n",
        "      return canvas.toDataURL('image/jpeg', quality);\n",
        "\n",
        "    }\n",
        "\n",
        "    ''')\n",
        "\n",
        "  display(js)\n",
        "\n",
        "  data = eval_js('takePhoto({})'.format(quality))\n",
        "\n",
        "  binary = b64decode(data.split(',')[1])\n",
        "\n",
        "  with open(filename, 'wb') as f:\n",
        "\n",
        "    f.write(binary)\n",
        "\n",
        "  return filename"
      ]
    },
    {
      "cell_type": "code",
      "source": [
        "from IPython.display import Image\n",
        "import os  \n",
        "try:\n",
        "  \n",
        "  filename = take_photo()\n",
        "  \n",
        "  print('Saved to {}'.format(filename))\n",
        "  \n",
        "  # Show the image which was just taken.\n",
        "  display(Image(filename))\n",
        "except Exception as err:\n",
        "  # Errors will be thrown if the user does not have a webcam or if they do not\n",
        "  # grant the page permission to access it.\n",
        "  print(str(err))"
      ],
      "metadata": {
        "id": "Oibk9oVuBDGD",
        "colab": {
          "base_uri": "https://localhost:8080/"
        },
        "outputId": "3b78d4be-e841-4129-a843-f8ee637a3b10"
      },
      "execution_count": 2,
      "outputs": [
        {
          "output_type": "stream",
          "name": "stdout",
          "text": [
            "name 'take_photo' is not defined\n"
          ]
        }
      ]
    }
  ]
}